{
 "cells": [
  {
   "cell_type": "code",
   "execution_count": null,
   "metadata": {
    "colab": {
     "base_uri": "https://localhost:8080/"
    },
    "id": "oQDHHQ4B7Mg4",
    "outputId": "0def8e6b-d8bb-425b-b322-6c74322f1599",
    "scrolled": true
   },
   "outputs": [],
   "source": [
    "!pip install onnx\n",
    "!pip install onnxruntime\n",
    "!pip install tf2onnx\n"
   ]
  },
  {
   "cell_type": "code",
   "execution_count": null,
   "metadata": {
    "colab": {
     "base_uri": "https://localhost:8080/"
    },
    "id": "fl0XJfMe6A28",
    "outputId": "a0cfad18-2ec8-45aa-c28a-f5057c59c48e"
   },
   "outputs": [],
   "source": [
    "import torch\n",
    "import torch.nn as nn\n",
    "import time\n",
    "import torch.onnx\n",
    "import tensorflow as tf\n",
    "import onnxruntime as ort\n",
    "import numpy as np\n",
    "import tf2onnx\n",
    "print(torch.cuda.is_available())"
   ]
  },
  {
   "cell_type": "code",
   "execution_count": null,
   "metadata": {
    "colab": {
     "base_uri": "https://localhost:8080/"
    },
    "id": "0SV22EG3A5AG",
    "outputId": "2a254bb9-8ccd-459e-8c8c-9a9302e8246b"
   },
   "outputs": [],
   "source": [
    "\n",
    "# Define a simple feedforward network\n",
    "class SimpleNet(nn.Module):\n",
    "    def __init__(self):\n",
    "        super(SimpleNet, self).__init__()\n",
    "        # Define layers\n",
    "        self.fc1 = nn.Linear(2, 2)  # Input to layer 1\n",
    "        self.fc2 = nn.Linear(2, 3)  # Layer 1 to layer 2\n",
    "        self.fc3 = nn.Linear(3, 4)  # Layer 2 to layer 3 (output)\n",
    "\n",
    "    def forward(self, x):\n",
    "        # Forward pass through the network\n",
    "        x = torch.sigmoid(self.fc1(x))\n",
    "        x = torch.sigmoid(self.fc2(x))\n",
    "        x = self.fc3(x)  # Output layer has no activation\n",
    "        return x\n",
    "\n",
    "# Instantiate the model\n",
    "model_pt = SimpleNet()\n",
    "\n",
    "# Example input for inference\n",
    "example_input_pt = torch.tensor([[6.0, 9.0]])\n",
    "\n",
    "# Perform inference\n",
    "output = model_pt(example_input_pt)\n",
    "\n",
    "# Print the inference output\n",
    "print(\"PyTorch Inference Output:\", output.detach().numpy())"
   ]
  },
  {
   "cell_type": "code",
   "execution_count": null,
   "metadata": {},
   "outputs": [],
   "source": [
    "# Define the model using TensorFlow Sequential API\n",
    "model_tf = tf.keras.Sequential([\n",
    "    tf.keras.layers.Dense(2, activation='sigmoid', input_shape=(2,)),  # Input to layer 1\n",
    "    tf.keras.layers.Dense(3, activation='sigmoid'),                     # Layer 1 to layer 2\n",
    "    tf.keras.layers.Dense(4)                                            # Layer 2 to output (no activation)\n",
    "])\n",
    "\n",
    "# Example input for inference\n",
    "example_input_tf = tf.constant([[6.0, 9.0]], dtype=tf.float32)\n",
    "\n",
    "# Perform inference\n",
    "output = model_tf(example_input)\n",
    "\n",
    "# Print the inference output\n",
    "print(\"TensorFlow Inference Output:\", output.numpy())"
   ]
  },
  {
   "cell_type": "code",
   "execution_count": null,
   "metadata": {
    "colab": {
     "base_uri": "https://localhost:8080/"
    },
    "id": "DLyTbf_G6Gui",
    "outputId": "a4070102-eb1a-4cbe-a345-f8f45358c787"
   },
   "outputs": [],
   "source": [
    "# Specify the path for the ONNX model file\n",
    "onnx_model_path_pt = \"simple_model_pt.onnx\"\n",
    "onnx_model_path_tf = \"simple_model_tf.onnx\"\n",
    "# Convert the PyTorch model to ONNX\n",
    "torch.onnx.export(\n",
    "    model_pt,                          # model being exported\n",
    "    example_input_pt,                  # model input (or a tuple for multiple inputs)\n",
    "    onnx_model_path_pt,                # where to save the model (can be a file or file-like object)\n",
    "    input_names=[\"input_pt\"],          # the model's input names\n",
    "    output_names=[\"output_pt\"],        # the model's output names\n",
    ")\n",
    "\n",
    "print(f\"pytorch Model successfully converted to ONNX: {onnx_model_path_pt}\")\n",
    "#########################################################################################\n",
    "spec = (tf.TensorSpec((None, 2), tf.float32, name=\"input_tf\"),)  # Define input shape and name\n",
    "\n",
    "# Convert and save the model\n",
    "tf2onnx.convert.from_keras(model_tf, \n",
    "                            input_signature=spec, \n",
    "                            output_path=onnx_model_path_tf)\n",
    "\n",
    "\n",
    "\n",
    "print(f\"tensorflow Model successfully converted to ONNX: {onnx_model_path_tf}\")\n",
    "\n"
   ]
  },
  {
   "cell_type": "code",
   "execution_count": null,
   "metadata": {
    "colab": {
     "base_uri": "https://localhost:8080/"
    },
    "id": "KE0wjF5q6H0i",
    "outputId": "cddcc2c7-8994-48d6-f51d-c4415c3e9ddd"
   },
   "outputs": [],
   "source": [
    "# Load the ONNX model\n",
    "onnx_model_path = \"simple_model_pt.onnx\"\n",
    "ort_session = ort.InferenceSession(onnx_model_path)\n",
    "\n",
    "# Prepare sample input data (same shape as the PyTorch model)\n",
    "onnx_input = np.array([[1.0, 2.0]], dtype=np.float32)\n",
    "\n",
    "# Run inference on the ONNX model\n",
    "onnx_output = ort_session.run(None, {\"input_pt\": onnx_input})\n",
    "\n",
    "# Print the ONNX inference result\n",
    "print(\"ONNX Inference Output pytorch model:\", onnx_output)\n"
   ]
  },
  {
   "cell_type": "code",
   "execution_count": null,
   "metadata": {},
   "outputs": [],
   "source": [
    "# Load the ONNX model\n",
    "onnx_model_path = \"simple_model_tf.onnx\"\n",
    "ort_session = ort.InferenceSession(onnx_model_path)\n",
    "\n",
    "# Prepare sample input data (same shape as the PyTorch model)\n",
    "onnx_input = np.array([[1.0, 2.0]], dtype=np.float32)\n",
    "\n",
    "# Run inference on the ONNX model\n",
    "onnx_output = ort_session.run(None, {\"input_tf\": onnx_input})\n",
    "\n",
    "# Print the ONNX inference result\n",
    "print(\"ONNX Inference Output using tensorflow model:\", onnx_output)"
   ]
  },
  {
   "cell_type": "code",
   "execution_count": null,
   "metadata": {
    "colab": {
     "base_uri": "https://localhost:8080/"
    },
    "id": "T6JweTjU64dU",
    "outputId": "825fd6b6-f3c2-4706-f44e-6f1bbabd7838"
   },
   "outputs": [],
   "source": [
    "time_sum = 0\n",
    "n_iters = 1000\n",
    "\n",
    "for i in range(n_iters):\n",
    "  example_input = torch.randn(1, 2)\n",
    "  t0 = time.time()\n",
    "  output = model(example_input)\n",
    "  time_sum+=(time.time() - t0)\n",
    "\n",
    "print(f\"Total time: {time_sum/n_iters}\")"
   ]
  },
  {
   "cell_type": "code",
   "execution_count": null,
   "metadata": {
    "colab": {
     "base_uri": "https://localhost:8080/"
    },
    "id": "JsFekGKb_wjh",
    "outputId": "8133bee2-5585-4199-bc72-96526d8d823d"
   },
   "outputs": [],
   "source": [
    "time_sum = 0\n",
    "n_iters = 1000\n",
    "onnx_model_path = \"simple_model.onnx\"\n",
    "ort_session = ort.InferenceSession(onnx_model_path)\n",
    "\n",
    "\n",
    "for i in range(n_iters):\n",
    "  onnx_input = np.random.rand(1, 2).astype(np.float32)\n",
    "  t0 = time.time()\n",
    "  onnx_output = ort_session.run(None, {\"input\": onnx_input})\n",
    "  time_sum+=(time.time() - t0)\n",
    "\n",
    "print(f\"Total time: {time_sum/n_iters}\")"
   ]
  },
  {
   "cell_type": "code",
   "execution_count": null,
   "metadata": {
    "id": "Q8KpKw1QAcTS"
   },
   "outputs": [],
   "source": []
  },
  {
   "cell_type": "code",
   "execution_count": null,
   "metadata": {
    "id": "7vSpKZ_oAmRU"
   },
   "outputs": [],
   "source": []
  }
 ],
 "metadata": {
  "colab": {
   "provenance": []
  },
  "kernelspec": {
   "display_name": "Python 3 (ipykernel)",
   "language": "python",
   "name": "python3"
  },
  "language_info": {
   "codemirror_mode": {
    "name": "ipython",
    "version": 3
   },
   "file_extension": ".py",
   "mimetype": "text/x-python",
   "name": "python",
   "nbconvert_exporter": "python",
   "pygments_lexer": "ipython3",
   "version": "3.11.9"
  }
 },
 "nbformat": 4,
 "nbformat_minor": 4
}
